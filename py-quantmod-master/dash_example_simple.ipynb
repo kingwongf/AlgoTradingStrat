{
  "cells": [
    {
      "cell_type": "markdown",
      "source": [
        "# Dash example simple"
      ],
      "metadata": {}
    },
    {
      "cell_type": "code",
      "source": [
        "# Import required libraries\n",
        "\n",
        "import dash\n",
        "import dash_core_components as core\n",
        "import dash_html_components as html\n",
        "from dash.dependencies import Input, Output\n",
        "import quantmod as qm"
      ],
      "outputs": [],
      "execution_count": 1,
      "metadata": {
        "collapsed": false,
        "outputHidden": false,
        "inputHidden": false
      }
    },
    {
      "cell_type": "code",
      "source": [
        "# Create layout\n",
        "\n",
        "# Dash app instantiation\n",
        "app = dash.Dash(\"Stock market app\")\n",
        "\n",
        "# External CSS\n",
        "app.css.append_css({\n",
        "    'external_url': (\n",
        "        'https://rawgit.com/chriddyp/0247653a7c52feb4c48437e1c1837f75'\n",
        "        '/raw/a68333b876edaf62df2efa7bac0e9b3613258851/dash.css'\n",
        "    )\n",
        "})\n",
        "\n",
        "# Create app layout\n",
        "app.layout = html.Div(\n",
        "    [\n",
        "        html.H1('Quantmod Demo | 5-minute App'),\n",
        "        # Dropdown for stocks\n",
        "        core.Dropdown(\n",
        "            id='dropdown',\n",
        "            options=[\n",
        "                dict(label='PowerShares QQQ Trust Series 1', value='QQQ'),\n",
        "                dict(label='SPDR S&P 500 ETF Trust', value='SPY'),\n",
        "                dict(label='Apple Inc', value='AAPL'),\n",
        "                dict(label='Goldman Sachs Group Inc', value='GS'),\n",
        "            ],\n",
        "            value='SPY',\n",
        "        ),\n",
        "        # Dropdown for indicators\n",
        "        core.Dropdown(\n",
        "            id='multi',\n",
        "            options=[\n",
        "                dict(label='EMA', value='EMA'),\n",
        "                dict(label='RSI', value='RSI'),\n",
        "                dict(label='MACD', value='MACD'),\n",
        "                dict(label='BBANDS', value='BBANDS'),\n",
        "            ],\n",
        "            multi=True,\n",
        "            value=[],\n",
        "        ),\n",
        "        # Graph output\n",
        "        core.Graph(id='output')\n",
        "    ]\n",
        ")"
      ],
      "outputs": [],
      "execution_count": null,
      "metadata": {
        "collapsed": false,
        "outputHidden": false,
        "inputHidden": false
      }
    },
    {
      "cell_type": "code",
      "source": [
        "# Setup callbacks\n",
        "\n",
        "# Graph is modified by 2 inputs\n",
        "@app.callback(Output('output', 'figure'), [Input('dropdown', 'value'),\n",
        "                                       Input('multi', 'value')])\n",
        "def update_graph_from_dropdown(dropdown, multi):\n",
        "    # Get Quantmod Chart\n",
        "    ch = qm.get_symbol(dropdown, start='2016/01/01')\n",
        "\n",
        "    if 'EMA' in multi:\n",
        "        ch.add_EMA()\n",
        "    if 'RSI' in multi:\n",
        "        ch.add_RSI()\n",
        "    if 'MACD' in multi:\n",
        "        ch.add_MACD()\n",
        "    if 'BBANDS' in multi:\n",
        "        ch.add_BBANDS()\n",
        "\n",
        "    # Return plot as figure\n",
        "    return ch.to_figure()"
      ],
      "outputs": [],
      "execution_count": null,
      "metadata": {
        "collapsed": false,
        "outputHidden": false,
        "inputHidden": false
      }
    },
    {
      "cell_type": "code",
      "source": [
        "if __name__ == '__main__':\n",
        "    app.run_server(debug=True, port=4001)"
      ],
      "outputs": [],
      "execution_count": null,
      "metadata": {
        "collapsed": false,
        "outputHidden": false,
        "inputHidden": false
      }
    }
  ],
  "metadata": {
    "kernelspec": {
      "name": "python3",
      "language": "python",
      "display_name": "Python 3"
    },
    "kernel_info": {
      "name": "python3"
    },
    "language_info": {
      "name": "python",
      "version": "3.6.0",
      "mimetype": "text/x-python",
      "codemirror_mode": {
        "name": "ipython",
        "version": 3
      },
      "pygments_lexer": "ipython3",
      "nbconvert_exporter": "python",
      "file_extension": ".py"
    }
  },
  "nbformat": 4,
  "nbformat_minor": 4
}